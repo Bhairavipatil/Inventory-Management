{
 "cells": [
  {
   "cell_type": "code",
   "execution_count": 6,
   "id": "00cbfc31",
   "metadata": {},
   "outputs": [],
   "source": [
    "import json\n",
    "\n",
    "fd = open(\"recordlist.json\",'r')\n",
    "r = fd.read()\n",
    "fd.close()\n",
    "\n",
    "records = json.loads(r)"
   ]
  },
  {
   "cell_type": "code",
   "execution_count": 9,
   "id": "70b0709f",
   "metadata": {},
   "outputs": [
    {
     "name": "stdout",
     "output_type": "stream",
     "text": [
      "Enter the product_Id: 1001\n",
      "Enter the quantity: 1\n",
      "Product:  Choco Cake\n",
      "Price:  100\n",
      "Billing Amount:  100\n"
     ]
    }
   ],
   "source": [
    "prod_id  = str(input(\"Enter the product_Id: \"))\n",
    "if prod_id not in records.keys():\n",
    "    print(\"The product is not in the store\")\n",
    "else:\n",
    "    prod_qnt = int(input(\"Enter the quantity: \"))\n",
    "    \n",
    "    if prod_qnt > records[prod_id]['qn']:\n",
    "        print(\"OOPS! we only have: \", records[prod_id]['qn'])\n",
    "\n",
    "    else:\n",
    "        print(\"Product: \", records[prod_id]['name'])\n",
    "        print(\"Price: \", records[prod_id]['pr'])\n",
    "        print(\"Billing Amount: \", records[prod_id]['pr'] * prod_qnt)\n",
    "        records[prod_id]['Qnt'] = records[prod_id]['qn'] - prod_qnt\n",
    "\n",
    "        js = json.dumps(records)\n",
    "        fd = open(\"record.json\",'w')\n",
    "        fd.write(js)\n",
    "        fd.close()\n",
    "\n",
    "        sales = {'Prod' : prod_id,'name': records[prod_id]['name'],'Price': records[prod_id]['pr'], 'qn' : prod_qnt, 'amount': records[prod_id]['pr'] * prod_qnt}\n",
    "        sale = json.dumps(sales)\n",
    "\n",
    "        fd = open(\"sales.json\",'w')\n",
    "        fd.write(sale)\n",
    "        fd.close()\n",
    "                "
   ]
  },
  {
   "cell_type": "code",
   "execution_count": null,
   "id": "0502e829",
   "metadata": {},
   "outputs": [],
   "source": []
  }
 ],
 "metadata": {
  "kernelspec": {
   "display_name": "Python 3",
   "language": "python",
   "name": "python3"
  },
  "language_info": {
   "codemirror_mode": {
    "name": "ipython",
    "version": 3
   },
   "file_extension": ".py",
   "mimetype": "text/x-python",
   "name": "python",
   "nbconvert_exporter": "python",
   "pygments_lexer": "ipython3",
   "version": "3.8.8"
  }
 },
 "nbformat": 4,
 "nbformat_minor": 5
}
