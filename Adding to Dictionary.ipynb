{
 "cells": [
  {
   "cell_type": "code",
   "execution_count": 6,
   "id": "a8aa4e1c",
   "metadata": {},
   "outputs": [],
   "source": [
    "import json\n",
    "fd = open(\"recordlist.json\",'r')\n",
    "r = fd.read()\n",
    "fd.close()\n",
    "\n",
    "records = json.loads(r)"
   ]
  },
  {
   "cell_type": "code",
   "execution_count": 7,
   "id": "b4f458b3",
   "metadata": {},
   "outputs": [
    {
     "data": {
      "text/plain": [
       "{'1001': {'name': 'Choco Cake', 'pr': 100, 'qn': 34},\n",
       " '1002': {'name': 'Milk Cake', 'pr': 800, 'qn': 100},\n",
       " '1003': {'name': 'Drink', 'pr': 85, 'qn': 100},\n",
       " '1004': {'name': 'Candy', 'pr': 5, 'qn': 1000},\n",
       " '1005': {'name': 'Pen', 'pr': 20, 'qn': 100},\n",
       " '1006': {'name': 'Phone', 'pr': 23, 'qn': 10},\n",
       " '1007': {'name': 'Mic', 'pr': 1500, 'qn': 0},\n",
       " '1008': {'name': 'Case', 'pr': 599, 'qn': 5},\n",
       " '1009': {'name': 'Cadbury', 'pr': 50, 'qn': 30},\n",
       " '1010': {'name': 'mobile', 'pr': 15000, 'qn': 20},\n",
       " '1011': {'name': 'laptop', 'pr': 80000, 'qn': 5},\n",
       " '1012': {'name': 'Battery', 'pr': 100, 'qn': 25},\n",
       " '1013': {'name': 'Lamp', 'pr': 300, 'qn': 10},\n",
       " '1014': {'name': 'Cloth stand', 'pr': 400, 'qn': 8},\n",
       " '1015': {'name': 'Basket', 'pr': 150, 'qn': 15},\n",
       " '1016': {'name': 'Show piece', 'pr': 2000, 'qn': 10},\n",
       " '1017': {'name': 'Watch', 'pr': 800, 'qn': 20},\n",
       " '1018': {'name': 'T-shirt', 'pr': 200, 'qn': 35},\n",
       " '1019': {'name': 'Juicer', 'pr': 2000, 'qn': 8},\n",
       " '1020': {'name': 'Hairband', 'pr': 50, 'qn': 20},\n",
       " '1021': {'name': 'Sport shoes', 'pr': 1000, 'qn': 10},\n",
       " '1022': {'name': 'Diary', 'pr': 150, 'qn': 20},\n",
       " '1023': {'name': 'Camera', 'pr': 35000, 'qn': 7},\n",
       " '1024': {'name': 'Maggie', 'pr': 100, 'qn': 15},\n",
       " '1025': {'name': 'sanitizer', 'pr': 150, 'qn': 25},\n",
       " '1026': {'name': 'Headphone', 'pr': 900, 'qn': 10},\n",
       " '1027': {'name': 'Handbag', 'pr': 500, 'qn': 23},\n",
       " '1028': {'name': 'Bodylotion', 'pr': 300, 'qn': 25},\n",
       " '1029': {'name': 'Pillow', 'pr': 250, 'qn': 30}}"
      ]
     },
     "execution_count": 7,
     "metadata": {},
     "output_type": "execute_result"
    }
   ],
   "source": [
    "records"
   ]
  },
  {
   "cell_type": "code",
   "execution_count": 14,
   "id": "3b47cc0e",
   "metadata": {},
   "outputs": [
    {
     "name": "stdout",
     "output_type": "stream",
     "text": [
      "Enter product id:1001\n",
      "The product already exist!\n"
     ]
    }
   ],
   "source": [
    "prod_id = str(input(\"Enter product id:\"))\n",
    "if prod_id in records.keys():\n",
    "    print(\"The product already exist!\")\n",
    "else:\n",
    "    name = str(input(\"Enter name:\"))\n",
    "    pr = int(input(\"Enter price:\"))\n",
    "    qn = int(input(\"Enter quantity:\"))\n",
    "\n",
    "    records[prod_id] = {'name': name, 'pr': pr, 'qn': qn}\n",
    "\n",
    "    js = json.dumps(records)\n",
    "\n",
    "    fd = open(\"recordlist.json\",'w')\n",
    "    fd.write(js)\n",
    "    fd.close()"
   ]
  },
  {
   "cell_type": "code",
   "execution_count": 82,
   "id": "48040866",
   "metadata": {},
   "outputs": [
    {
     "data": {
      "text/plain": [
       "{'1001': {'Name': 'Choco Cake', 'Price': 100, 'Quantity': 34},\n",
       " '1002': {'Name': 'Milk Cake', 'Price': 800, 'Quantity': 100},\n",
       " '1003': {'Name': 'Drink', 'Price': 85, 'Quantity': 100},\n",
       " '1004': {'Name': 'Candy', 'Price': 5, 'Quantity': 1000},\n",
       " '1005': {'Name': 'Pen', 'Price': 20, 'Quantity': 100},\n",
       " '1006': {'Name': 'Phone', 'Price': 23, 'Quantity': 10},\n",
       " '1007': {'Name': 'Mic', 'Price': 1500, 'Quantity': 0},\n",
       " '1008': {'Name': 'Case', 'Price': 599, 'Quantity': 5},\n",
       " '1009': {'Name': 'Cadbury', 'Price': 50, 'Quantity': 30},\n",
       " '1010': {'name': 'mobile', 'pr': 15000, 'qn': 20},\n",
       " '1011': {'name': 'laptop', 'pr': 80000, 'qn': 5},\n",
       " '1012': {'name': 'Battery', 'pr': 100, 'qn': 25},\n",
       " '1013': {'name': 'Lamp', 'pr': 300, 'qn': 10},\n",
       " '1014': {'name': 'Cloth stand', 'pr': 400, 'qn': 8},\n",
       " '1015': {'name': 'Basket', 'pr': 150, 'qn': 15},\n",
       " '1016': {'name': 'Show piece', 'pr': 2000, 'qn': 10},\n",
       " '1017': {'name': 'Watch', 'pr': 800, 'qn': 20},\n",
       " '1018': {'name': 'T-shirt', 'pr': 200, 'qn': 35},\n",
       " '1019': {'name': 'Juicer', 'pr': 2000, 'qn': 8},\n",
       " '1020': {'name': 'Hairband', 'pr': 50, 'qn': 20},\n",
       " '1021': {'name': 'Sport shoes', 'pr': 1000, 'qn': 10},\n",
       " '1022': {'name': 'Diary', 'pr': 150, 'qn': 20},\n",
       " '1023': {'name': 'Camera', 'pr': 35000, 'qn': 7},\n",
       " '1024': {'name': 'Maggie', 'pr': 100, 'qn': 15},\n",
       " '1025': {'name': 'sanitizer', 'pr': 150, 'qn': 25},\n",
       " '1026': {'name': 'Headphone', 'pr': 900, 'qn': 10},\n",
       " '1027': {'name': 'Handbag', 'pr': 500, 'qn': 23},\n",
       " '1028': {'name': 'Bodylotion', 'pr': 300, 'qn': 25},\n",
       " '1029': {'name': 'Pillow', 'pr': 250, 'qn': 30},\n",
       " '1030': {'name': 'Umbralla', 'pr': 130, 'qn': 35}}"
      ]
     },
     "execution_count": 82,
     "metadata": {},
     "output_type": "execute_result"
    }
   ],
   "source": [
    "records"
   ]
  }
 ],
 "metadata": {
  "kernelspec": {
   "display_name": "Python 3",
   "language": "python",
   "name": "python3"
  },
  "language_info": {
   "codemirror_mode": {
    "name": "ipython",
    "version": 3
   },
   "file_extension": ".py",
   "mimetype": "text/x-python",
   "name": "python",
   "nbconvert_exporter": "python",
   "pygments_lexer": "ipython3",
   "version": "3.8.8"
  }
 },
 "nbformat": 4,
 "nbformat_minor": 5
}
